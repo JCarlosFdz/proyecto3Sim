{
 "cells": [
  {
   "cell_type": "code",
   "execution_count": 77,
   "metadata": {},
   "outputs": [],
   "source": [
    "import numpy as np\n",
    "from scipy import interpolate\n",
    "import matplotlib.pyplot as plt\n",
    "import matplotlib.mlab as mlab\n",
    "from mpl_toolkits.mplot3d import axes3d\n",
    "from matplotlib.ticker import LinearLocator, FormatStrFormatter\n",
    "from matplotlib import cm\n",
    "import random\n",
    "from ipywidgets import interact, interactive, fixed, interact_manual\n",
    "from ipywidgets import FloatSlider\n",
    "import ipywidgets as widgets\n",
    "import plotly.plotly as py\n",
    "import plotly.graph_objs as go\n",
    "plotly.tools.set_credentials_file(username='alanTorresManci', api_key='6DR9Y3FeiXneNwynb5W4')\n",
    "%matplotlib inline"
   ]
  },
  {
   "cell_type": "code",
   "execution_count": 78,
   "metadata": {},
   "outputs": [],
   "source": [
    "def interp2d_interleave(z,n):\n",
    "    '''performs linear interpolation on a grid\n",
    "\n",
    "    all points are interpolated in one step not recursively\n",
    "\n",
    "    Parameters\n",
    "    ----------\n",
    "    z : 2d array (M,N)\n",
    "    n : int\n",
    "        number of points interpolated\n",
    "\n",
    "    Returns\n",
    "    -------\n",
    "    zi : 2d array ((M-1)*n+M, (N-1)*n+N)\n",
    "        original and linear interpolated values\n",
    "\n",
    "    '''\n",
    "    frac = np.atleast_2d(np.arange(0,n+1)/(1.0+n)).T\n",
    "    zi1 = np.kron(z[:,:-1],np.ones(len(frac))) + np.kron(np.diff(z),frac.T)\n",
    "    zi1 = np.hstack((zi1,z[:,-1:]))\n",
    "    zi2 = np.kron(zi1.T[:,:-1],np.ones(len(frac))) + np.kron(np.diff(zi1.T),frac.T)\n",
    "    zi2 = np.hstack((zi2,zi1.T[:,-1:]))\n",
    "    return zi2.T\n",
    "\n",
    "def interp2d_interleave_recursive(z,n):\n",
    "    '''interpolates by recursively interleaving n times\n",
    "    '''\n",
    "    zi = z.copy()\n",
    "    for ii in range(1,n+1):\n",
    "        zi = interp2d_interleave(zi,1)\n",
    "    return zi\n",
    "\n",
    "def indices(a, func):\n",
    "    return [i for (i, val) in enumerate(a) if func(val)]\n"
   ]
  },
  {
   "cell_type": "code",
   "execution_count": 79,
   "metadata": {},
   "outputs": [
    {
     "data": {
      "text/plain": [
       "array([[0., 0.],\n",
       "       [0., 0.]])"
      ]
     },
     "execution_count": 79,
     "metadata": {},
     "output_type": "execute_result"
    }
   ],
   "source": [
    "terrain = np.zeros((2, 2))\n",
    "randmap = 0.1 * np.random.randn(len(terrain[0, :]), len(terrain[0, :]));\n",
    "terrain\n",
    "#np.ones(terrain.shape())"
   ]
  },
  {
   "cell_type": "code",
   "execution_count": 80,
   "metadata": {},
   "outputs": [],
   "source": [
    "def generateGround(i, c):\n",
    "    terrain = np.zeros((2, 2))\n",
    "    for j in range(i):\n",
    "        terrain = interp2d_interleave_recursive(terrain, 1)\n",
    "        subsquares = np.ones(terrain.shape)\n",
    "        for k in range(len(terrain[0, :])):\n",
    "            if k%2 == 0:\n",
    "                subsquares[k, k] = 0\n",
    "        randmap = c * np.random.randn(len(terrain[0, :]), len(terrain[0, :]));\n",
    "        for l in range(len(terrain[0, :])):\n",
    "            for n in range(len(terrain[0, :])):\n",
    "                if(subsquares[l, n] != 0):\n",
    "                    terrain[l, n] = terrain[l, n] + randmap[l, n]\n",
    "        c = c/2\n",
    "    return terrain"
   ]
  },
  {
   "cell_type": "code",
   "execution_count": 81,
   "metadata": {},
   "outputs": [
    {
     "data": {
      "text/plain": [
       "(257, 257)"
      ]
     },
     "execution_count": 81,
     "metadata": {},
     "output_type": "execute_result"
    }
   ],
   "source": [
    "\n",
    "terreno.shape"
   ]
  },
  {
   "cell_type": "code",
   "execution_count": 91,
   "metadata": {},
   "outputs": [
    {
     "name": "stdout",
     "output_type": "stream",
     "text": [
      "High five! You successfully sent some data to your account on plotly. View your plot in your browser at https://plot.ly/~alanTorresManci/0 or inside your plot.ly account where it is named 'elevations-3d-surface-contours'\n"
     ]
    },
    {
     "data": {
      "text/html": [
       "<iframe id=\"igraph\" scrolling=\"no\" style=\"border:none;\" seamless=\"seamless\" src=\"https://plot.ly/~alanTorresManci/0.embed\" height=\"500px\" width=\"500px\"></iframe>"
      ],
      "text/plain": [
       "<plotly.tools.PlotlyDisplay object>"
      ]
     },
     "execution_count": 91,
     "metadata": {},
     "output_type": "execute_result"
    }
   ],
   "source": [
    "z_data = generateGround(8, 0.1)\n",
    "data = [\n",
    "    go.Surface(\n",
    "        z=z_data,\n",
    "        contours=go.surface.Contours(\n",
    "            z=go.surface.contours.Z(\n",
    "              show=True,\n",
    "              usecolormap=True,\n",
    "              highlightcolor=\"#42f462\",\n",
    "              project=dict(z=True)\n",
    "            )\n",
    "        )\n",
    "    )\n",
    "]\n",
    "layout = go.Layout(\n",
    "    title='Random Mountain Surface',\n",
    "    autosize=False,\n",
    "    scene=dict(camera=dict(eye=dict(x=1.87, y=0.88, z=-0.64))),\n",
    "    width=500,\n",
    "    height=500,\n",
    "    margin=dict(\n",
    "        l=65,\n",
    "        r=50,\n",
    "        b=65,\n",
    "        t=90\n",
    "    )\n",
    ")\n",
    "fig = go.Figure(data=data, layout=layout)\n",
    "py.iplot(fig, filename='elevations-3d-surface-contours')"
   ]
  },
  {
   "cell_type": "code",
   "execution_count": 87,
   "metadata": {},
   "outputs": [],
   "source": [
    "def generador(i):\n",
    "    terreno = generateGround(i, 0.1)\n",
    "    z = terreno\n",
    "    x, y = np.linspace(0,len(z[0,:]), len(z[0,:])), np.linspace(0, len(z[0,:]), len(z[0,:]))\n",
    "    X, Y = np.meshgrid(x, y)\n",
    "    fig = plt.figure(figsize=(8,6))\n",
    "    ax = fig.gca(projection='3d')\n",
    "    #y = x\n",
    "    #xx = np.array(np.meshgrid(x, y))\n",
    "    #yy = xx\n",
    "\n",
    "\n",
    "\n",
    "    ax.plot_surface(X, Y, abs(z), cmap=cm.coolwarm,\n",
    "                           linewidth=0, antialiased=False)\n",
    "    plt.show()"
   ]
  },
  {
   "cell_type": "code",
   "execution_count": 88,
   "metadata": {},
   "outputs": [
    {
     "data": {
      "application/vnd.jupyter.widget-view+json": {
       "model_id": "a321bd71d373471fa3b5e8767173a7ac",
       "version_major": 2,
       "version_minor": 0
      },
      "text/html": [
       "<p>Failed to display Jupyter Widget of type <code>interactive</code>.</p>\n",
       "<p>\n",
       "  If you're reading this message in the Jupyter Notebook or JupyterLab Notebook, it may mean\n",
       "  that the widgets JavaScript is still loading. If this message persists, it\n",
       "  likely means that the widgets JavaScript library is either not installed or\n",
       "  not enabled. See the <a href=\"https://ipywidgets.readthedocs.io/en/stable/user_install.html\">Jupyter\n",
       "  Widgets Documentation</a> for setup instructions.\n",
       "</p>\n",
       "<p>\n",
       "  If you're reading this message in another frontend (for example, a static\n",
       "  rendering on GitHub or <a href=\"https://nbviewer.jupyter.org/\">NBViewer</a>),\n",
       "  it may mean that your frontend doesn't currently support widgets.\n",
       "</p>\n"
      ],
      "text/plain": [
       "interactive(children=(IntSlider(value=0, description='i', max=9), Output()), _dom_classes=('widget-interact',))"
      ]
     },
     "metadata": {},
     "output_type": "display_data"
    },
    {
     "data": {
      "text/plain": [
       "<function __main__.generador>"
      ]
     },
     "execution_count": 88,
     "metadata": {},
     "output_type": "execute_result"
    }
   ],
   "source": [
    "interact(generador, i = widgets.IntSlider(min = 0, max = 9, value = 0))"
   ]
  },
  {
   "cell_type": "code",
   "execution_count": null,
   "metadata": {},
   "outputs": [],
   "source": []
  },
  {
   "cell_type": "code",
   "execution_count": null,
   "metadata": {},
   "outputs": [],
   "source": []
  }
 ],
 "metadata": {
  "kernelspec": {
   "display_name": "Python 3",
   "language": "python",
   "name": "python3"
  },
  "language_info": {
   "codemirror_mode": {
    "name": "ipython",
    "version": 3
   },
   "file_extension": ".py",
   "mimetype": "text/x-python",
   "name": "python",
   "nbconvert_exporter": "python",
   "pygments_lexer": "ipython3",
   "version": "3.6.4"
  }
 },
 "nbformat": 4,
 "nbformat_minor": 2
}
