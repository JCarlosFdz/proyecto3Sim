{
 "cells": [
  {
   "cell_type": "markdown",
   "metadata": {},
   "source": [
    "<img style=\"float: right; margin: 0px 0px 30 30;\" src=\"https://previews.123rf.com/images/schatzyo/schatzyo1603/schatzyo160300016/55115114-la-palabra-de-random-en-concepto-de-bloques-de-construcci%C3%B3n.jpg\" width=\"300px\" height=\"100px\" />\n",
    " \n",
    "# <font color= purple > \"Montañas.Random\"\n",
    "    \n",
    "### Objetivo General\n",
    "> - Generar simulaciones de paisajes fractales, siendo estos totalmente aleatorios. iones de paisajes fractales.\n",
    "\n",
    "\n",
    "### Objetivos Especificos \n",
    "> - Generar graficas en 3D donde se muestren montañas aleatorias.\n",
    "> - A partir del uso de numeros generados aleatoriamente.\n",
    "> - Hacer uso de la interpolacion lineal de matrices.\n",
    "> - A través del uso del interac para ver como se van formando conforme pasa el tiempo.\n"
   ]
  },
  {
   "cell_type": "markdown",
   "metadata": {},
   "source": [
    "## Modelo\n",
    "> Se utilizo la interpolacion lineal de matrices para comenzar a generar la base del paisaje. Esta comenzo siendo una matriz de 2x2 que se subdivide en submatrices.\n",
    "\n",
    "> Al generarse las submatrices, lo nuevos elementos se llenan de numeros random y a los numeros que ya estan establecidos se le suma su numero anterior mas random.\n",
    "\n",
    "> Se definio una constante de crecimiento la cual multiplica toda la matriz, esta genera la diversas alturas de las montañas. De igual forma, esta va disminuyendo conforme avanza en ciclo.\n",
    "\n",
    "\n",
    "\n"
   ]
  },
  {
   "cell_type": "code",
   "execution_count": 35,
   "metadata": {},
   "outputs": [],
   "source": [
    "import numpy as np\n",
    "from scipy import interpolate\n",
    "import matplotlib.pyplot as plt\n",
    "import matplotlib.mlab as mlab\n",
    "from mpl_toolkits.mplot3d import axes3d\n",
    "from matplotlib.ticker import LinearLocator, FormatStrFormatter\n",
    "from matplotlib import cm\n",
    "import random\n",
    "from ipywidgets import interact, interactive, fixed, interact_manual\n",
    "from ipywidgets import FloatSlider\n",
    "import ipywidgets as widgets\n",
    "#import plotly.plotly as py\n",
    "#import plotly.graph_objs as go\n",
    "#plotly.tools.set_credentials_file(username='alanTorresManci', api_key='6DR9Y3FeiXneNwynb5W4')\n",
    "%matplotlib inline"
   ]
  },
  {
   "cell_type": "code",
   "execution_count": 36,
   "metadata": {},
   "outputs": [],
   "source": [
    "def interp2d_interleave(z,n):\n",
    "    '''performs linear interpolation on a grid\n",
    "\n",
    "    all points are interpolated in one step not recursively\n",
    "\n",
    "    Parameters\n",
    "    ----------\n",
    "    z : 2d array (M,N)\n",
    "    n : int\n",
    "        number of points interpolated\n",
    "\n",
    "    Returns\n",
    "    -------\n",
    "    zi : 2d array ((M-1)*n+M, (N-1)*n+N)\n",
    "        original and linear interpolated values\n",
    "\n",
    "    '''\n",
    "    frac = np.atleast_2d(np.arange(0,n+1)/(1.0+n)).T\n",
    "    zi1 = np.kron(z[:,:-1],np.ones(len(frac))) + np.kron(np.diff(z),frac.T)\n",
    "    zi1 = np.hstack((zi1,z[:,-1:]))\n",
    "    zi2 = np.kron(zi1.T[:,:-1],np.ones(len(frac))) + np.kron(np.diff(zi1.T),frac.T)\n",
    "    zi2 = np.hstack((zi2,zi1.T[:,-1:]))\n",
    "    return zi2.T\n",
    "\n",
    "def interp2d_interleave_recursive(z,n):\n",
    "    '''interpolates by recursively interleaving n times\n",
    "    '''\n",
    "    zi = z.copy()\n",
    "    for ii in range(1,n+1):\n",
    "        zi = interp2d_interleave(zi,1)\n",
    "    return zi\n",
    "\n",
    "def indices(a, func):\n",
    "    return [i for (i, val) in enumerate(a) if func(val)]\n"
   ]
  },
  {
   "cell_type": "code",
   "execution_count": 37,
   "metadata": {},
   "outputs": [
    {
     "data": {
      "text/plain": [
       "array([[0., 0.],\n",
       "       [0., 0.]])"
      ]
     },
     "execution_count": 37,
     "metadata": {},
     "output_type": "execute_result"
    }
   ],
   "source": [
    "terrain = np.zeros((2, 2))\n",
    "randmap = 0.1 * np.random.randn(len(terrain[0, :]), len(terrain[0, :]));\n",
    "terrain\n",
    "#np.ones(terrain.shape())"
   ]
  },
  {
   "cell_type": "code",
   "execution_count": 38,
   "metadata": {},
   "outputs": [],
   "source": [
    "def generateGround(i, c):\n",
    "    terrain = np.zeros((2, 2))\n",
    "    for j in range(i):\n",
    "        terrain = interp2d_interleave_recursive(terrain, 1)\n",
    "        subsquares = np.ones(terrain.shape)\n",
    "        for k in range(len(terrain[0, :])):\n",
    "            if k%2 == 0:\n",
    "                subsquares[k, k] = 0\n",
    "        randmap = c * np.random.randn(len(terrain[0, :]), len(terrain[0, :]));\n",
    "        for l in range(len(terrain[0, :])):\n",
    "            for n in range(len(terrain[0, :])):\n",
    "                if(subsquares[l, n] != 0):\n",
    "                    terrain[l, n] = terrain[l, n] + randmap[l, n]\n",
    "        c = c/2\n",
    "    return terrain"
   ]
  },
  {
   "cell_type": "code",
   "execution_count": 39,
   "metadata": {},
   "outputs": [
    {
     "ename": "NameError",
     "evalue": "name 'terreno' is not defined",
     "output_type": "error",
     "traceback": [
      "\u001b[1;31m---------------------------------------------------------------------------\u001b[0m",
      "\u001b[1;31mNameError\u001b[0m                                 Traceback (most recent call last)",
      "\u001b[1;32m<ipython-input-39-49f29eeec4cc>\u001b[0m in \u001b[0;36m<module>\u001b[1;34m()\u001b[0m\n\u001b[0;32m      1\u001b[0m \u001b[1;33m\u001b[0m\u001b[0m\n\u001b[1;32m----> 2\u001b[1;33m \u001b[0mterreno\u001b[0m\u001b[1;33m.\u001b[0m\u001b[0mshape\u001b[0m\u001b[1;33m\u001b[0m\u001b[0m\n\u001b[0m",
      "\u001b[1;31mNameError\u001b[0m: name 'terreno' is not defined"
     ]
    }
   ],
   "source": [
    "\n",
    "terreno.shape"
   ]
  },
  {
   "cell_type": "code",
   "execution_count": 40,
   "metadata": {},
   "outputs": [
    {
     "ename": "NameError",
     "evalue": "name 'go' is not defined",
     "output_type": "error",
     "traceback": [
      "\u001b[1;31m---------------------------------------------------------------------------\u001b[0m",
      "\u001b[1;31mNameError\u001b[0m                                 Traceback (most recent call last)",
      "\u001b[1;32m<ipython-input-40-c537539221b3>\u001b[0m in \u001b[0;36m<module>\u001b[1;34m()\u001b[0m\n\u001b[0;32m      1\u001b[0m \u001b[0mz_data\u001b[0m \u001b[1;33m=\u001b[0m \u001b[0mgenerateGround\u001b[0m\u001b[1;33m(\u001b[0m\u001b[1;36m8\u001b[0m\u001b[1;33m,\u001b[0m \u001b[1;36m0.1\u001b[0m\u001b[1;33m)\u001b[0m\u001b[1;33m\u001b[0m\u001b[0m\n\u001b[0;32m      2\u001b[0m data = [\n\u001b[1;32m----> 3\u001b[1;33m     go.Surface(\n\u001b[0m\u001b[0;32m      4\u001b[0m         \u001b[0mz\u001b[0m\u001b[1;33m=\u001b[0m\u001b[0mz_data\u001b[0m\u001b[1;33m,\u001b[0m\u001b[1;33m\u001b[0m\u001b[0m\n\u001b[0;32m      5\u001b[0m         contours=go.surface.Contours(\n",
      "\u001b[1;31mNameError\u001b[0m: name 'go' is not defined"
     ]
    }
   ],
   "source": [
    "z_data = generateGround(8, 0.1)\n",
    "data = [\n",
    "    go.Surface(\n",
    "        z=z_data,\n",
    "        contours=go.surface.Contours(\n",
    "            z=go.surface.contours.Z(\n",
    "              show=True,\n",
    "              usecolormap=True,\n",
    "              highlightcolor=\"#42f462\",\n",
    "              project=dict(z=True)\n",
    "            )\n",
    "        )\n",
    "    )\n",
    "]\n",
    "layout = go.Layout(\n",
    "    title='Random Mountain Surface',\n",
    "    autosize=False,\n",
    "    scene=dict(camera=dict(eye=dict(x=1.87, y=0.88, z=-0.64))),\n",
    "    width=500,\n",
    "    height=500,\n",
    "    margin=dict(\n",
    "        l=65,\n",
    "        r=50,\n",
    "        b=65,\n",
    "        t=90\n",
    "    )\n",
    ")\n",
    "fig = go.Figure(data=data, layout=layout)\n",
    "py.iplot(fig, filename='elevations-3d-surface-contours')"
   ]
  },
  {
   "cell_type": "code",
   "execution_count": 41,
   "metadata": {},
   "outputs": [],
   "source": [
    "def generador(i):\n",
    "    terreno = generateGround(i, 0.1)\n",
    "    z = terreno\n",
    "    x, y = np.linspace(0,len(z[0,:]), len(z[0,:])), np.linspace(0, len(z[0,:]), len(z[0,:]))\n",
    "    X, Y = np.meshgrid(x, y)\n",
    "    fig = plt.figure(figsize=(8,6))\n",
    "    ax = fig.gca(projection='3d')\n",
    "    #y = x\n",
    "    #xx = np.array(np.meshgrid(x, y))\n",
    "    #yy = xx\n",
    "\n",
    "\n",
    "\n",
    "    ax.plot_surface(X, Y, abs(z), cmap=cm.coolwarm,\n",
    "                           linewidth=0, antialiased=False)\n",
    "    plt.show()"
   ]
  },
  {
   "cell_type": "code",
   "execution_count": 42,
   "metadata": {},
   "outputs": [
    {
     "data": {
      "application/vnd.jupyter.widget-view+json": {
       "model_id": "6d2644265ace4b598976e8bbe121acb9",
       "version_major": 2,
       "version_minor": 0
      },
      "text/plain": [
       "interactive(children=(IntSlider(value=0, description='i', max=9), Output()), _dom_classes=('widget-interact',)…"
      ]
     },
     "metadata": {},
     "output_type": "display_data"
    }
   ],
   "source": [
    "interact(generador, i = widgets.IntSlider(min = 0, max = 9, value = 0));"
   ]
  },
  {
   "cell_type": "markdown",
   "metadata": {},
   "source": [
    "## Conclusiones \n",
    "\n",
    "> A partir de la aplicación de la interpolacion, la generacion de numeros random y la constante de crecimiento definidas se logro el objetivo, la simulacion de montañas aleatorias se logro.\n",
    "Gracias a esto se logro ver una de las aplicaciones de los numeros aleatorios generados, ademas de como a partir de matrices se puede crear todo un escenario. De igual forma, como ya se observo, se logro obtener muy buenas graficas en 3D de las montañas. "
   ]
  },
  {
   "cell_type": "code",
   "execution_count": null,
   "metadata": {},
   "outputs": [],
   "source": []
  }
 ],
 "metadata": {
  "kernelspec": {
   "display_name": "Python 3",
   "language": "python",
   "name": "python3"
  },
  "language_info": {
   "codemirror_mode": {
    "name": "ipython",
    "version": 3
   },
   "file_extension": ".py",
   "mimetype": "text/x-python",
   "name": "python",
   "nbconvert_exporter": "python",
   "pygments_lexer": "ipython3",
   "version": "3.6.5"
  }
 },
 "nbformat": 4,
 "nbformat_minor": 1
}
